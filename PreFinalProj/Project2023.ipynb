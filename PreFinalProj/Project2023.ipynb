{
 "cells": [
  {
   "cell_type": "code",
   "execution_count": 120,
   "metadata": {
    "id": "DB0y4jqEW5fI"
   },
   "outputs": [],
   "source": [
    "import numpy as np\n",
    "import matplotlib as mpl\n",
    "import matplotlib.pyplot as plt"
   ]
  },
  {
   "cell_type": "code",
   "execution_count": 189,
   "metadata": {},
   "outputs": [],
   "source": [
    "#точное решение задачи\n",
    "def u(x):\n",
    "    return - np.tanh(100*x)/np.tanh(100)\n",
    "#функция концентрации дырок\n",
    "def p(x):\n",
    "    return - np.exp(-x)/(2*np.sinh(-1))\n",
    "#функция концентрации электронов\n",
    "def n(x):\n",
    "    return - np.exp(x)/(2*np.sinh(-1))"
   ]
  },
  {
   "cell_type": "code",
   "execution_count": 144,
   "metadata": {
    "colab": {
     "base_uri": "https://localhost:8080/",
     "height": 245
    },
    "id": "j5C6EUM8W_T_",
    "outputId": "2cb0c347-be60-4406-c2e7-62ee5e6001ee"
   },
   "outputs": [],
   "source": [
    "import os\n",
    "\n",
    "os.chdir(\"C:/Users/chubb/source/repos/PreFinalProj/PreFinalProj\")\n",
    "\n"
   ]
  },
  {
   "cell_type": "code",
   "execution_count": 145,
   "metadata": {},
   "outputs": [],
   "source": [
    "#построение графика потенциала\n",
    "def plots0():\n",
    "    b= []\n",
    "    with open('./test.txt', 'r') as fln:\n",
    "        for line in fln:\n",
    "          a = line.split(' ')\n",
    "          a = a[:len(a)-1]\n",
    "          a = list(map(float, a))\n",
    "          b.append(a)\n",
    "    plt.figure(figsize=(6, 3.5))\n",
    "    plt.xlabel(\"x\")\n",
    "    plt.ylabel(\"Potential\")\n",
    "    vs = np.asarray(b[0])\n",
    "    epss = np.asarray(b[1])\n",
    "    gammas = np.asarray(b[2])\n",
    "    grid = np.asarray(b[3])\n",
    "    for i in range(4, len(b)):\n",
    "        graph = np.asarray(b[i])\n",
    "        plt.plot(grid, graph)\n",
    "        #plt.plot(grid, u(x))\n",
    "        plt.grid(True)\n",
    "        plt.figure()\n"
   ]
  },
  {
   "cell_type": "code",
   "execution_count": 146,
   "metadata": {},
   "outputs": [],
   "source": [
    "#модуль разности в точках сетки для сравнения точного решения с приближенным\n",
    "def norm(v1, v2):\n",
    "    m = 0\n",
    "    ii = 0\n",
    "    for i in range(len(v1)):\n",
    "        if abs(v1[i]-v2[i])> m:\n",
    "            m = abs(v1[i]-v2[i])\n",
    "            ii = i\n",
    "    return m, i\n",
    "    "
   ]
  },
  {
   "cell_type": "code",
   "execution_count": 190,
   "metadata": {},
   "outputs": [],
   "source": [
    "#график psi(x), и погрешности\n",
    "def plots():\n",
    "    path = \"C:/Users/chubb/AllPlots/gentest/\" \n",
    "    b= []\n",
    "    with open('./test.txt', 'r') as fln:\n",
    "        for line in fln:\n",
    "          a = line.split(' ')\n",
    "          a = a[:len(a)-1]\n",
    "          a = list(map(float, a))\n",
    "          b.append(a)\n",
    "    plt.figure(figsize=(6, 3.5))\n",
    "    plt.xlabel(\"x\")\n",
    "    plt.ylabel(r'$\\Psi(x)$')\n",
    "    vs = np.asarray(b[0])\n",
    "    epss = np.asarray(b[1])\n",
    "    gammas = np.asarray(b[2])\n",
    "    grid = np.asarray(b[3])\n",
    "    #print(grid)\n",
    "    for i in range(4, len(b)):\n",
    "        graph = np.asarray(b[i])\n",
    "        plt.plot(grid, graph)\n",
    "        #plt.plot(grid, u(grid))\n",
    "        plt.grid(True)\n",
    "        plt.savefig(path +\"gen40\"+\".png\")\n",
    "        plt.figure()\n",
    "        \"\"\"\n",
    "        m, ii = norm(u(grid), graph)\n",
    "        print(m)\n",
    "        print(grid[i])\n",
    "        \n",
    "        \"\"\"\n",
    "        \n",
    "        \n",
    "        \n",
    "        plt.xlabel(\"x\")\n",
    "        plt.ylabel(\"err\")\n",
    "        plt.plot(grid, abs(u(grid)-graph))\n",
    "        plt.savefig(path +\"gen41\"+\".png\")\n",
    "        plt.figure()\n",
    "        \n",
    "        plt.xlabel(\"x\")\n",
    "        plt.ylabel(\"err\")\n",
    "        plt.plot(grid[0:400], abs(u(grid[0:400])-graph[0:400]))\n",
    "        plt.savefig(path +\"gen42\"+\".png\")\n",
    "        plt.figure()\n",
    "    return grid, graph"
   ]
  },
  {
   "cell_type": "code",
   "execution_count": 1,
   "metadata": {},
   "outputs": [
    {
     "ename": "NameError",
     "evalue": "name 'plots' is not defined",
     "output_type": "error",
     "traceback": [
      "\u001b[1;31m---------------------------------------------------------------------------\u001b[0m",
      "\u001b[1;31mNameError\u001b[0m                                 Traceback (most recent call last)",
      "Input \u001b[1;32mIn [1]\u001b[0m, in \u001b[0;36m<cell line: 1>\u001b[1;34m()\u001b[0m\n\u001b[1;32m----> 1\u001b[0m gr, g1 \u001b[38;5;241m=\u001b[39m \u001b[43mplots\u001b[49m()\n",
      "\u001b[1;31mNameError\u001b[0m: name 'plots' is not defined"
     ]
    }
   ],
   "source": [
    "gr, g1 = plots()"
   ]
  },
  {
   "cell_type": "code",
   "execution_count": 2,
   "metadata": {},
   "outputs": [
    {
     "ename": "NameError",
     "evalue": "name 'plots' is not defined",
     "output_type": "error",
     "traceback": [
      "\u001b[1;31m---------------------------------------------------------------------------\u001b[0m",
      "\u001b[1;31mNameError\u001b[0m                                 Traceback (most recent call last)",
      "Input \u001b[1;32mIn [2]\u001b[0m, in \u001b[0;36m<cell line: 1>\u001b[1;34m()\u001b[0m\n\u001b[1;32m----> 1\u001b[0m gr, g2 \u001b[38;5;241m=\u001b[39m \u001b[43mplots\u001b[49m()\n",
      "\u001b[1;31mNameError\u001b[0m: name 'plots' is not defined"
     ]
    },
    {
     "name": "stdout",
     "output_type": "stream",
     "text": [
      "The history saving thread hit an unexpected error (OperationalError('database or disk is full')).History will not be written to the database.\n"
     ]
    }
   ],
   "source": [
    "gr, g2 = plots()"
   ]
  },
  {
   "cell_type": "code",
   "execution_count": 212,
   "metadata": {},
   "outputs": [],
   "source": [
    "#график psi(x) , p(x) и n(x)\n",
    "def plotsexp():\n",
    "    path = \"C:/Users/chubb/AllPlots/exp/\" \n",
    "    b= []\n",
    "    with open('./test.txt', 'r') as fln:\n",
    "        for line in fln:\n",
    "          a = line.split(' ')\n",
    "          a = a[:len(a)-1]\n",
    "          a = list(map(float, a))\n",
    "          b.append(a)\n",
    "    plt.figure(figsize=(6, 3.5))\n",
    "    plt.xlabel(\"x\")\n",
    "    plt.ylabel(r'$\\Psi(x)$')\n",
    "    vs = np.asarray(b[0])\n",
    "    epss = np.asarray(b[1])\n",
    "    gammas = np.asarray(b[2])\n",
    "    grid = np.asarray(b[3])\n",
    "    #print(grid)\n",
    "    for i in range(4, len(b)):\n",
    "        graph = np.asarray(b[i])\n",
    "        plt.plot(grid, graph)\n",
    "        #plt.plot(grid, u(grid))\n",
    "        plt.grid(True)\n",
    "        plt.savefig(path +\"exp80\"+\".png\")\n",
    "        plt.figure()\n",
    "        plt.plot(grid, p(graph))\n",
    "        plt.xlabel(\"x\")\n",
    "        plt.ylabel(r'$\\rm{P}(x)$')\n",
    "        plt.grid(True)\n",
    "        plt.savefig(path +\"exp81\"+\".png\")\n",
    "        plt.figure()\n",
    "        plt.plot(grid, n(graph))\n",
    "        plt.xlabel(\"x\")\n",
    "        plt.ylabel(r'$\\rm{N}(x)$')\n",
    "        plt.grid(True)\n",
    "        plt.savefig(path +\"exp82\"+\".png\")\n",
    "        plt.figure()\n",
    "        \n",
    "        \n",
    "        #у нуля\n",
    "        plt.plot(grid[500:1500], graph[500:1500])\n",
    "        plt.xlabel(\"x\")\n",
    "        plt.ylabel(r'$\\Psi(x)$')\n",
    "        #plt.plot(grid, u(grid))\n",
    "        plt.grid(True)\n",
    "        plt.savefig(path +\"exp83\"+\".png\")\n",
    "        plt.figure()\n",
    "        plt.plot(grid[500:1500], p(graph)[500:1500])\n",
    "        plt.xlabel(\"x\")\n",
    "        plt.ylabel(r'$\\rm{P}(x)$')\n",
    "        plt.grid(True)\n",
    "        plt.savefig(path +\"exp84\"+\".png\")\n",
    "        plt.figure()\n",
    "        plt.plot(grid[500:1500], n(graph)[500:1500])\n",
    "        plt.xlabel(\"x\")\n",
    "        plt.ylabel(r'$\\rm{N}(x)$')\n",
    "        plt.grid(True)\n",
    "        plt.savefig(path +\"exp85\"+\".png\")\n",
    "        plt.figure()\n",
    "    return grid, graph\n"
   ]
  },
  {
   "cell_type": "code",
   "execution_count": 213,
   "metadata": {},
   "outputs": [
    {
     "data": {
      "image/png": "[encoded data removed]",
      "text/plain": [
       "<Figure size 432x252 with 1 Axes>"
      ]
     },
     "metadata": {
      "needs_background": "light"
     },
     "output_type": "display_data"
    },
    {
     "data": {
      "image/png": "[encoded data removed]",
      "text/plain": [
       "<Figure size 432x288 with 1 Axes>"
      ]
     },
     "metadata": {
      "needs_background": "light"
     },
     "output_type": "display_data"
    },
    {
     "data": {
      "image/png": "[encoded data removed]",
      "text/plain": [
       "<Figure size 432x288 with 1 Axes>"
      ]
     },
     "metadata": {
      "needs_background": "light"
     },
     "output_type": "display_data"
    },
    {
     "data": {
      "image/png": "[encoded data removed]",
      "text/plain": [
       "<Figure size 432x288 with 1 Axes>"
      ]
     },
     "metadata": {
      "needs_background": "light"
     },
     "output_type": "display_data"
    },
    {
     "data": {
      "image/png": "[encoded data removed]",
      "text/plain": [
       "<Figure size 432x288 with 1 Axes>"
      ]
     },
     "metadata": {
      "needs_background": "light"
     },
     "output_type": "display_data"
    },
    {
     "data": {
      "image/png": "[encoded data removed]",
      "text/plain": [
       "<Figure size 432x288 with 1 Axes>"
      ]
     },
     "metadata": {
      "needs_background": "light"
     },
     "output_type": "display_data"
    },
    {
     "data": {
      "text/plain": [
       "<Figure size 432x288 with 0 Axes>"
      ]
     },
     "metadata": {},
     "output_type": "display_data"
    }
   ],
   "source": [
    "gride, graphe = plotsexp()"
   ]
  },
  {
   "cell_type": "code",
   "execution_count": null,
   "metadata": {},
   "outputs": [],
   "source": []
  },
  {
   "cell_type": "code",
   "execution_count": null,
   "metadata": {},
   "outputs": [],
   "source": []
  },
  {
   "cell_type": "code",
   "execution_count": null,
   "metadata": {},
   "outputs": [],
   "source": []
  }
 ],
 "metadata": {
  "colab": {
   "provenance": []
  },
  "kernelspec": {
   "display_name": "Python 3 (ipykernel)",
   "language": "python",
   "name": "python3"
  },
  "language_info": {
   "codemirror_mode": {
    "name": "ipython",
    "version": 3
   },
   "file_extension": ".py",
   "mimetype": "text/x-python",
   "name": "python",
   "nbconvert_exporter": "python",
   "pygments_lexer": "ipython3",
   "version": "3.9.12"
  }
 },
 "nbformat": 4,
 "nbformat_minor": 1
}
